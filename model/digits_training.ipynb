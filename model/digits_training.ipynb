{
 "cells": [
  {
   "cell_type": "code",
   "execution_count": null,
   "id": "f96f9290-0596-4119-9f3b-43e09d720194",
   "metadata": {},
   "outputs": [],
   "source": [
    "from sklearn.datasets import fetch_openml\n",
    "from sklearn.metrics import accuracy_score,classification_report\n",
    "from sklearn.neighbors import KNeighborsClassifier\n",
    "from sklearn.preprocessing import MinMaxScaler\n",
    "import numpy as np\n",
    "from sklearn import svm"
   ]
  },
  {
   "cell_type": "code",
   "execution_count": null,
   "id": "d02ba53a-fef0-4e1f-8e64-dc5964dc3722",
   "metadata": {},
   "outputs": [],
   "source": [
    "mnist = fetch_openml(\"mnist_784\")"
   ]
  },
  {
   "cell_type": "code",
   "execution_count": null,
   "id": "21f5ef6d-6a92-4634-9683-7cf2f505134d",
   "metadata": {},
   "outputs": [],
   "source": [
    "data = mnist.data"
   ]
  },
  {
   "cell_type": "code",
   "execution_count": null,
   "id": "eeaceeb5-92ad-41f1-b552-e7d33229bbd6",
   "metadata": {},
   "outputs": [],
   "source": [
    "target = mnist.target"
   ]
  },
  {
   "cell_type": "code",
   "execution_count": null,
   "id": "b9f33498-d747-446e-8a12-04f04323fb4d",
   "metadata": {},
   "outputs": [],
   "source": [
    "s = svm.SVC()"
   ]
  },
  {
   "cell_type": "code",
   "execution_count": null,
   "id": "eb832f1f-4f26-4d27-a13b-677eda586dfc",
   "metadata": {},
   "outputs": [],
   "source": [
    "data "
   ]
  },
  {
   "cell_type": "code",
   "execution_count": null,
   "id": "0f212e33-0eb8-412a-a8ce-2ce15ec58084",
   "metadata": {},
   "outputs": [],
   "source": [
    "X = data.values"
   ]
  },
  {
   "cell_type": "code",
   "execution_count": null,
   "id": "5d7d9cc1-2b91-482d-8551-440249f7c4ca",
   "metadata": {},
   "outputs": [],
   "source": [
    "scaler = MinMaxScaler()"
   ]
  },
  {
   "cell_type": "code",
   "execution_count": null,
   "id": "64aea404-8038-4963-b013-719ecc41d2fc",
   "metadata": {},
   "outputs": [],
   "source": [
    "X = scaler.fit_transform(X)"
   ]
  },
  {
   "cell_type": "code",
   "execution_count": null,
   "id": "38881806-6aad-40f9-93c0-e26bc6335946",
   "metadata": {},
   "outputs": [],
   "source": [
    "g = target.values"
   ]
  },
  {
   "cell_type": "code",
   "execution_count": null,
   "id": "acc409b0-169b-4e54-99e4-c7b05f10e09a",
   "metadata": {},
   "outputs": [],
   "source": [
    "s.fit(X, g)"
   ]
  },
  {
   "cell_type": "code",
   "execution_count": null,
   "id": "2f45285d-d3aa-4738-9998-c76de64355e3",
   "metadata": {},
   "outputs": [],
   "source": [
    "s.predict([X[1,:]])"
   ]
  },
  {
   "cell_type": "code",
   "execution_count": null,
   "id": "2c53eb0b-9ba7-4855-96d5-6af41253f38a",
   "metadata": {},
   "outputs": [],
   "source": [
    "import joblib\n",
    "\n",
    "model_file_name = \"mnist-svm.joblib\"\n",
    "joblib.dump(s, model_file_name)"
   ]
  },
  {
   "cell_type": "code",
   "execution_count": null,
   "id": "96d11184-4ac2-43c1-a006-1ab3297c15e0",
   "metadata": {},
   "outputs": [],
   "source": [
    "inference_request"
   ]
  },
  {
   "cell_type": "code",
   "execution_count": null,
   "id": "5d7a5375-034a-4622-9032-392969e61ae8",
   "metadata": {},
   "outputs": [],
   "source": [
    "import requests\n",
    "\n",
    "x_0 = X[0:1]\n",
    "inference_request = {\n",
    "    \"inputs\": [\n",
    "        {\n",
    "          \"name\": \"predict\",\n",
    "          \"shape\": x_0.shape,\n",
    "          \"datatype\": \"FP32\",\n",
    "          \"data\": x_0.tolist()\n",
    "        }\n",
    "    ]\n",
    "}\n",
    "\n",
    "endpoint = \"http://localhost:8080/v2/models/mnist-svm/versions/v0.1.0/infer\"\n",
    "response = requests.post(endpoint, json=inference_request)\n",
    "\n",
    "response.json()\n"
   ]
  },
  {
   "cell_type": "code",
   "execution_count": null,
   "id": "39927934-75e5-4e9b-bd49-6bbe06172fbd",
   "metadata": {},
   "outputs": [],
   "source": [
    "X[0:1]"
   ]
  },
  {
   "cell_type": "code",
   "execution_count": null,
   "id": "36fd35b7-c626-428e-a143-6fb941a1b43f",
   "metadata": {},
   "outputs": [],
   "source": []
  }
 ],
 "metadata": {
  "kernelspec": {
   "display_name": "schoolml",
   "language": "python",
   "name": "schoolml"
  },
  "language_info": {
   "codemirror_mode": {
    "name": "ipython",
    "version": 3
   },
   "file_extension": ".py",
   "mimetype": "text/x-python",
   "name": "python",
   "nbconvert_exporter": "python",
   "pygments_lexer": "ipython3",
   "version": "3.10.12"
  }
 },
 "nbformat": 4,
 "nbformat_minor": 5
}
